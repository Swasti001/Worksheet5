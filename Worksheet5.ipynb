{
  "nbformat": 4,
  "nbformat_minor": 0,
  "metadata": {
    "colab": {
      "provenance": []
    },
    "kernelspec": {
      "name": "python3",
      "display_name": "Python 3"
    },
    "language_info": {
      "name": "python"
    }
  },
  "cells": [
    {
      "cell_type": "code",
      "execution_count": null,
      "metadata": {
        "id": "qL4JmouZC6Uo"
      },
      "outputs": [],
      "source": []
    },
    {
      "cell_type": "code",
      "source": [
        "from google.colab import drive\n",
        "drive.mount('/content/drive')"
      ],
      "metadata": {
        "colab": {
          "base_uri": "https://localhost:8080/"
        },
        "id": "9w2tS-uVD24p",
        "outputId": "6e2e210d-fff2-4fc2-9446-ae3cd5315598"
      },
      "execution_count": 2,
      "outputs": [
        {
          "output_type": "stream",
          "name": "stdout",
          "text": [
            "Drive already mounted at /content/drive; to attempt to forcibly remount, call drive.mount(\"/content/drive\", force_remount=True).\n"
          ]
        }
      ]
    },
    {
      "cell_type": "code",
      "source": [
        "import pandas as pd\n",
        "#1\n",
        "df=pd.read_csv(\"/content/drive/MyDrive/DataSet/student.csv\")\n",
        "print(\"Top 5 rows\")\n",
        "print(df.head(5))\n",
        "#2\n",
        "print(\"Bottom 5 rows\")\n",
        "print(df.tail(5))\n",
        "#3\n",
        "print(\"Info about the datas\")\n",
        "print(df.info())\n",
        "#4\n",
        "print(\"Describing the datas\")\n",
        "print(df.describe())\n",
        "#5\n",
        "Label_column='Writing'\n",
        "X=df.drop(columns=[Label_column])\n",
        "Y=df[Label_column]\n",
        "\n",
        "\n",
        "print('\\nFeatures(X)')\n",
        "print(X.head())\n",
        "\n",
        "print(\"\\nLabels (Y)\")\n",
        "print(Y.head())\n"
      ],
      "metadata": {
        "colab": {
          "base_uri": "https://localhost:8080/"
        },
        "id": "AJUceitMojMc",
        "outputId": "fcb71df5-11a2-4602-87e1-b610800e30e4"
      },
      "execution_count": 3,
      "outputs": [
        {
          "output_type": "stream",
          "name": "stdout",
          "text": [
            "Top 5 rows\n",
            "   Math  Reading  Writing\n",
            "0    48       68       63\n",
            "1    62       81       72\n",
            "2    79       80       78\n",
            "3    76       83       79\n",
            "4    59       64       62\n",
            "Bottom 5 rows\n",
            "     Math  Reading  Writing\n",
            "995    72       74       70\n",
            "996    73       86       90\n",
            "997    89       87       94\n",
            "998    83       82       78\n",
            "999    66       66       72\n",
            "Info about the datas\n",
            "<class 'pandas.core.frame.DataFrame'>\n",
            "RangeIndex: 1000 entries, 0 to 999\n",
            "Data columns (total 3 columns):\n",
            " #   Column   Non-Null Count  Dtype\n",
            "---  ------   --------------  -----\n",
            " 0   Math     1000 non-null   int64\n",
            " 1   Reading  1000 non-null   int64\n",
            " 2   Writing  1000 non-null   int64\n",
            "dtypes: int64(3)\n",
            "memory usage: 23.6 KB\n",
            "None\n",
            "Describing the datas\n",
            "              Math      Reading      Writing\n",
            "count  1000.000000  1000.000000  1000.000000\n",
            "mean     67.290000    69.872000    68.616000\n",
            "std      15.085008    14.657027    15.241287\n",
            "min      13.000000    19.000000    14.000000\n",
            "25%      58.000000    60.750000    58.000000\n",
            "50%      68.000000    70.000000    69.500000\n",
            "75%      78.000000    81.000000    79.000000\n",
            "max     100.000000   100.000000   100.000000\n",
            "\n",
            "Features(X)\n",
            "   Math  Reading\n",
            "0    48       68\n",
            "1    62       81\n",
            "2    79       80\n",
            "3    76       83\n",
            "4    59       64\n",
            "\n",
            "Labels (Y)\n",
            "0    63\n",
            "1    72\n",
            "2    78\n",
            "3    79\n",
            "4    62\n",
            "Name: Writing, dtype: int64\n"
          ]
        }
      ]
    },
    {
      "cell_type": "code",
      "source": [
        "import numpy as np\n",
        "\n",
        "#dimension, d-features,n-samples\n",
        "d,n=3,5\n",
        "#Matrices:W-weights,X-features,Y-outputs\n",
        "W=np.random.rand(d,1) #creates a random weight vector W of size d*1\n",
        "\n",
        "X=np.random.rand(d,n)#Creates a random feature matrix X of size d*n\n",
        "Y=W.T@X #computesY=W^TX,W^T tanspose of W\n",
        "print(\"W:\\n\",W)\n",
        "print(\"\\nX:\\n\",X)\n",
        "print(\"\\nY:\\n\",Y)"
      ],
      "metadata": {
        "colab": {
          "base_uri": "https://localhost:8080/"
        },
        "id": "5FJHNoTSsYQI",
        "outputId": "57c27250-1373-4cdf-99f0-23b0b21c31ee"
      },
      "execution_count": null,
      "outputs": [
        {
          "output_type": "stream",
          "name": "stdout",
          "text": [
            "W:\n",
            " [[0.52938704]\n",
            " [0.50971553]\n",
            " [0.41225222]]\n",
            "\n",
            "X:\n",
            " [[0.94858236 0.05717661 0.787408   0.31622988 0.37131619]\n",
            " [0.9210293  0.34066979 0.03700109 0.53533377 0.43127261]\n",
            " [0.30384348 0.63840786 0.51310205 0.02499171 0.6784577 ]]\n",
            "\n",
            "Y:\n",
            " [[1.0968903  0.4670983  0.64723108 0.45057883 0.69609202]]\n"
          ]
        }
      ]
    },
    {
      "cell_type": "code",
      "source": [
        "##3\n",
        "import pandas as pd\n",
        "df=pd.DataFrame({\n",
        "    'features1':range(1,11),\n",
        "    'features2':range(11,21),\n",
        "    'label':range(21,31)\n",
        "})\n",
        "\n",
        "df=df = df.sample(frac=1, random_state=42).reset_index(drop=True)\n",
        "\n",
        "# 80-20 split\n",
        "train_data = df[:int(0.8 * len(df))]\n",
        "test_data = df[int(0.8 * len(df)):]\n",
        "\n",
        "print(\"Training Data:\")\n",
        "print(train_data)\n",
        "\n",
        "print(\"\\nTesting Data:\")\n",
        "print(test_data)"
      ],
      "metadata": {
        "id": "sfouXkDDvDHo",
        "colab": {
          "base_uri": "https://localhost:8080/"
        },
        "outputId": "e92c4010-b1ee-44ce-b2af-325687d5b128"
      },
      "execution_count": 5,
      "outputs": [
        {
          "output_type": "stream",
          "name": "stdout",
          "text": [
            "Training Data:\n",
            "   features1  features2  label\n",
            "0          9         19     29\n",
            "1          2         12     22\n",
            "2          6         16     26\n",
            "3          1         11     21\n",
            "4          8         18     28\n",
            "5          3         13     23\n",
            "6         10         20     30\n",
            "7          5         15     25\n",
            "\n",
            "Testing Data:\n",
            "   features1  features2  label\n",
            "8          4         14     24\n",
            "9          7         17     27\n"
          ]
        }
      ]
    },
    {
      "cell_type": "code",
      "source": [
        "import numpy as np\n",
        "\n",
        "# Define the cost function\n",
        "def cost_function(X, Y, W):\n",
        "\n",
        "    # Number of data points\n",
        "    n = len(Y)\n",
        "\n",
        "    # Hypothesis: y_pred = X.dot(W)\n",
        "    y_pred = np.dot(X, W)\n",
        "\n",
        "    # Calculate Mean Squared Error (MSE)\n",
        "    cost = (1 / (2 * n)) * np.sum((y_pred - Y) ** 2)\n",
        "\n",
        "    return cost\n",
        "\n",
        "# Test Case\n",
        "X_test = np.array([[1, 2], [3, 4], [5, 6]])\n",
        "Y_test = np.array([3, 7, 11])\n",
        "W_test = np.array([1, 1])\n",
        "\n",
        "# Calculate cost\n",
        "cost = cost_function(X_test, Y_test, W_test)\n",
        "\n",
        "# Validate the result\n",
        "if cost == 0:\n",
        "    print(\"Proceed Further\")\n",
        "else:\n",
        "    print(\"Something went wrong: Reimplement the cost function\")\n",
        "print(\"Cost function output:\", cost)\n"
      ],
      "metadata": {
        "colab": {
          "base_uri": "https://localhost:8080/"
        },
        "id": "fYmRf4IpuSMg",
        "outputId": "cb2dd713-2dc0-4c7f-ea50-614267842bb9"
      },
      "execution_count": 6,
      "outputs": [
        {
          "output_type": "stream",
          "name": "stdout",
          "text": [
            "Proceed Further\n",
            "Cost function output: 0.0\n"
          ]
        }
      ]
    },
    {
      "cell_type": "code",
      "source": [
        "import pandas as pd\n",
        "import numpy as np\n",
        "from sklearn.model_selection import train_test_split\n",
        "from sklearn.metrics import mean_squared_error, r2_score\n",
        "\n",
        "# Gradient Descent Implementation\n",
        "def gradient_descent(X, Y, W, alpha, iterations):\n",
        "    n = len(Y)\n",
        "    cost_history = []\n",
        "\n",
        "    for i in range(iterations):\n",
        "        # Predicted values\n",
        "        Y_pred = np.dot(X, W)\n",
        "\n",
        "        # Gradient calculation\n",
        "        gradient = (1 / n) * np.dot(X.T, (Y_pred - Y))\n",
        "\n",
        "        # Update weights\n",
        "        W -= alpha * gradient\n",
        "\n",
        "        # Calculate cos)t\n",
        "        cost = (1 / (2 * n)) * np.sum((Y_pred - Y) ** 2)\n",
        "        cost_history.append(cost)\n",
        "\n",
        "    return W, cost_history\n",
        "\n",
        "# RMSE\n",
        "def rmse(Y_true, Y_pred):\n",
        "    return np.sqrt(mean_squared_error(Y_true, Y_pred))\n",
        "\n",
        "\n",
        "def main():\n",
        "    #1\n",
        "    data = pd.read_csv('/content/drive/MyDrive/DataSet/student.csv')\n",
        "\n",
        "    #2\n",
        "    X = data[['Math', 'Reading']].values\n",
        "    Y = data['Writing'].values\n",
        "\n",
        "    #3\n",
        "    X_train, X_test, Y_train, Y_test = train_test_split(X, Y, test_size=0.2, random_state=42)\n",
        "\n",
        "    #4\n",
        "    X_train_mean = np.mean(X_train, axis=0)\n",
        "    X_train_std = np.std(X_train, axis=0)\n",
        "    X_train = (X_train - X_train_mean) / X_train_std\n",
        "    X_test = (X_test - X_train_mean) / X_train_std\n",
        "\n",
        "\n",
        "    X_train = np.c_[np.ones(X_train.shape[0]), X_train]\n",
        "    X_test = np.c_[np.ones(X_test.shape[0]), X_test]\n",
        "\n",
        "    #5\n",
        "    W = np.zeros(X_train.shape[1])\n",
        "    alpha = 0.01\n",
        "    iterations = 1000\n",
        "\n",
        "    #6\n",
        "    W_optimal, cost_history = gradient_descent(X_train, Y_train, W, alpha, iterations)\n",
        "\n",
        "    #7\n",
        "    Y_pred = np.dot(X_test, W_optimal)\n",
        "\n",
        "    #8\n",
        "    model_rmse = rmse(Y_test, Y_pred)\n",
        "    model_r2 = r2_score(Y_test, Y_pred)\n",
        "\n",
        "    #results\n",
        "    print(\"Final Weights:\", W_optimal)\n",
        "    print(\"Cost History (First 10 iterations):\", cost_history[:10])\n",
        "    print(\"RMSE on Test Set:\", model_rmse)\n",
        "    print(\"R-Squared on Test Set:\", model_r2)\n",
        "\n",
        "    for alpha_exp in [0.001, 0.1, 0.5]:\n",
        "        W = np.zeros(X_train.shape[1])\n",
        "        W_optimal, _ = gradient_descent(X_train, Y_train, W, alpha_exp, iterations)\n",
        "        Y_pred = np.dot(X_test, W_optimal)\n",
        "        print(f\"Learning Rate: {alpha_exp}, RMSE: {rmse(Y_test, Y_pred)}, R-Squared: {r2_score(Y_test, Y_pred)}\")\n",
        "\n",
        "if __name__ == \"__main__\":\n",
        "    main()\n",
        "\n",
        "#Performance Evaluation:\n",
        "\n",
        "#If RMSE is low and R² is close to 1, the model's performance is acceptable.\n",
        "#A high RMSE or low R² may indicate underfitting or overfitting.\n",
        "#Effect of Learning Rate:\n",
        "\n",
        "#High learning rate (e.g., 0.5): May result in oscillations or failure to converge.\n",
        "#Low learning rate (e.g., 0.001): Slower convergence but more stable.\n",
        "#Optimal range (e.g., 0.01 - 0.1): Balances convergence speed and stability."
      ],
      "metadata": {
        "colab": {
          "base_uri": "https://localhost:8080/"
        },
        "id": "YS3gI-Nl0r4A",
        "outputId": "a8969799-0976-4c6e-9894-9e7de3beaa39"
      },
      "execution_count": 9,
      "outputs": [
        {
          "output_type": "stream",
          "name": "stdout",
          "text": [
            "Final Weights: [68.66953532  2.16347922 12.47419677]\n",
            "Cost History (First 10 iterations): [2471.69875, 2421.3066682841163, 2371.9712240257663, 2323.6694550601733, 2276.37892526855, 2230.077711644174, 2184.7443917038104, 2140.3580312344934, 2096.8981723659404, 2054.344821959219]\n",
            "RMSE on Test Set: 4.796799265066206\n",
            "R-Squared on Test Set: 0.9080797530286899\n",
            "Learning Rate: 0.001, RMSE: 26.143425598603404, R-Squared: -1.7304427770835078\n",
            "Learning Rate: 0.1, RMSE: 4.788030543047314, R-Squared: 0.9084155129091689\n",
            "Learning Rate: 0.5, RMSE: 4.788030543283847, R-Squared: 0.9084155129001201\n"
          ]
        }
      ]
    }
  ]
}